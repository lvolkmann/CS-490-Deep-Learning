{
  "nbformat": 4,
  "nbformat_minor": 0,
  "metadata": {
    "colab": {
      "name": "submission.ipynb",
      "provenance": [],
      "collapsed_sections": []
    },
    "kernelspec": {
      "name": "python3",
      "display_name": "Python 3"
    }
  },
  "cells": [
    {
      "cell_type": "code",
      "metadata": {
        "id": "sk_38qUG47Fb",
        "colab_type": "code",
        "colab": {
          "base_uri": "https://localhost:8080/",
          "height": 289
        },
        "outputId": "97ace88f-d987-4cbe-cd26-6dc985296e80"
      },
      "source": [
        "from keras.models import Sequential\n",
        "from keras import layers\n",
        "from keras.preprocessing.text import Tokenizer\n",
        "import pandas as pd\n",
        "from sklearn import preprocessing\n",
        "from sklearn.model_selection import train_test_split\n",
        "import matplotlib.pyplot as plt\n",
        "\n",
        "# open output file\n",
        "out = open(\"output.txt\", \"a+\")\n",
        "\n",
        "# Question 1\n",
        "\n",
        "# Loading data\n",
        "df = pd.read_csv('imdb_master.csv', encoding='latin-1')\n",
        "df = df.drop(df[df.label == 'unsup'].index)\n",
        "sentences = df['review'].values\n",
        "y = df['label'].values\n",
        "\n",
        "# tokenizing data\n",
        "tokenizer = Tokenizer(num_words=2000)\n",
        "tokenizer.fit_on_texts(sentences)\n",
        "\n",
        "# getting the vocabulary of data\n",
        "sentences = tokenizer.texts_to_matrix(sentences)\n",
        "\n",
        "le = preprocessing.LabelEncoder()\n",
        "y = le.fit_transform(y)\n",
        "\n",
        "# splitting data\n",
        "X_train, X_test, y_train, y_test = train_test_split(sentences, y, test_size=0.25, random_state=1000)\n",
        "\n",
        "# Number of features\n",
        "input_dim = 2000  # Fix 1, input dimension is same as number of words in tokenizer\n",
        "\n",
        "# Build model\n",
        "model = Sequential()\n",
        "model.add(layers.Dense(300, input_dim=input_dim, activation='relu'))\n",
        "model.add(\n",
        "    layers.Dense(2, activation='softmax'))  # Fix 2, output 2 labels... Fix 3, activation softmax for categorical output\n",
        "model.compile(loss='sparse_categorical_crossentropy', optimizer='adam', metrics=['acc'])\n",
        "history = model.fit(X_train, y_train, epochs=5, verbose=True, validation_data=(X_test, y_test), batch_size=256)\n",
        "\n",
        "# output results\n",
        "case = \"Simple model on IMDB data set\" + \"\\n\"\n",
        "loss, accuracy = model.evaluate(X_test, y_test)\n",
        "results = case + \"LOSS: {}\".format(loss) + \"\\n\" + \"ACCURACY: {}\".format(accuracy)\n",
        "print(results)\n",
        "out.write(results)\n",
        "\n",
        "out.write(\"\\n\\n\\n\")"
      ],
      "execution_count": 6,
      "outputs": [
        {
          "output_type": "stream",
          "text": [
            "Train on 37500 samples, validate on 12500 samples\n",
            "Epoch 1/5\n",
            "37500/37500 [==============================] - 3s 83us/step - loss: 0.3462 - acc: 0.8510 - val_loss: 0.3133 - val_acc: 0.8700\n",
            "Epoch 2/5\n",
            "37500/37500 [==============================] - 3s 82us/step - loss: 0.2599 - acc: 0.8931 - val_loss: 0.2950 - val_acc: 0.8763\n",
            "Epoch 3/5\n",
            "37500/37500 [==============================] - 3s 83us/step - loss: 0.2116 - acc: 0.9164 - val_loss: 0.2932 - val_acc: 0.8778\n",
            "Epoch 4/5\n",
            "37500/37500 [==============================] - 3s 81us/step - loss: 0.1412 - acc: 0.9523 - val_loss: 0.3044 - val_acc: 0.8781\n",
            "Epoch 5/5\n",
            "37500/37500 [==============================] - 3s 81us/step - loss: 0.0740 - acc: 0.9831 - val_loss: 0.3258 - val_acc: 0.8764\n",
            "12500/12500 [==============================] - 1s 52us/step\n",
            "Simple model on IMDB data set\n",
            "LOSS: 0.32579718297958377\n",
            "ACCURACY: 0.8763999938964844\n"
          ],
          "name": "stdout"
        },
        {
          "output_type": "execute_result",
          "data": {
            "text/plain": [
              "3"
            ]
          },
          "metadata": {
            "tags": []
          },
          "execution_count": 6
        }
      ]
    },
    {
      "cell_type": "code",
      "metadata": {
        "id": "5Rw7Fzjz5d_D",
        "colab_type": "code",
        "colab": {
          "base_uri": "https://localhost:8080/",
          "height": 343
        },
        "outputId": "0538e26d-65ea-4750-a1bc-ec0f9c8ec2fd"
      },
      "source": [
        "# Question 2\n",
        "from keras.preprocessing.sequence import pad_sequences\n",
        "from keras.layers.embeddings import Embedding\n",
        "from keras.layers import Flatten\n",
        "\n",
        "df = pd.read_csv('imdb_master.csv', encoding='latin-1')\n",
        "df = df.drop(df[df.label == 'unsup'].index)\n",
        "sentences = df['review'].values\n",
        "y = df['label'].values\n",
        "\n",
        "max_review_len = max([len(s.split()) for s in sentences])\n",
        "\n",
        "# tokenizing data\n",
        "tokenizer = Tokenizer(num_words=2470)\n",
        "tokenizer.fit_on_texts(sentences)\n",
        "\n",
        "# getting the vocabulary of data\n",
        "sentences = tokenizer.texts_to_matrix(sentences)\n",
        "le = preprocessing.LabelEncoder()\n",
        "y = le.fit_transform(y)\n",
        "\n",
        "# splitting data\n",
        "X_train, X_test, y_train, y_test = train_test_split(sentences, y, test_size=0.25, random_state=1000)\n",
        "\n",
        "# build model\n",
        "model = Sequential()\n",
        "model.add(Embedding(2470, 50, input_length=max_review_len))\n",
        "model.add(Flatten())\n",
        "model.add(layers.Dense(300, input_dim=2470, activation='relu'))\n",
        "model.add(layers.Dense(2, activation='softmax'))\n",
        "model.compile(loss='sparse_categorical_crossentropy', optimizer='adam', metrics=['acc'])\n",
        "history = model.fit(X_train, y_train, epochs=5, verbose=True, validation_data=(X_test, y_test), batch_size=256)\n",
        "\n",
        "case = \"Simple model + embedded layer on IMDB data set\" + \"\\n\"\n",
        "loss2, accuracy2 = model.evaluate(X_test, y_test)\n",
        "results = case + \"NEW LOSS: {} CHANGE: {}\".format(loss2, loss2 - loss) + \\\n",
        "          \"\\n\" + \"NEW ACCURACY: {} CHANGE: {}\".format(accuracy2, accuracy2 - accuracy)\n",
        "\n",
        "print(results)\n",
        "out.write(results)\n",
        "\n",
        "out.write(\"\\n\\n\\n\")"
      ],
      "execution_count": 7,
      "outputs": [
        {
          "output_type": "stream",
          "text": [
            "/usr/local/lib/python3.6/dist-packages/tensorflow/python/framework/indexed_slices.py:434: UserWarning: Converting sparse IndexedSlices to a dense Tensor of unknown shape. This may consume a large amount of memory.\n",
            "  \"Converting sparse IndexedSlices to a dense Tensor of unknown shape. \"\n"
          ],
          "name": "stderr"
        },
        {
          "output_type": "stream",
          "text": [
            "Train on 37500 samples, validate on 12500 samples\n",
            "Epoch 1/5\n",
            "37500/37500 [==============================] - 218s 6ms/step - loss: 0.6021 - acc: 0.7659 - val_loss: 0.2974 - val_acc: 0.8812\n",
            "Epoch 2/5\n",
            "37500/37500 [==============================] - 218s 6ms/step - loss: 0.2757 - acc: 0.8867 - val_loss: 0.2785 - val_acc: 0.8848\n",
            "Epoch 3/5\n",
            "37500/37500 [==============================] - 219s 6ms/step - loss: 0.2507 - acc: 0.8965 - val_loss: 0.2768 - val_acc: 0.8818\n",
            "Epoch 4/5\n",
            "37500/37500 [==============================] - 219s 6ms/step - loss: 0.2373 - acc: 0.9023 - val_loss: 0.2813 - val_acc: 0.8813\n",
            "Epoch 5/5\n",
            "37500/37500 [==============================] - 218s 6ms/step - loss: 0.2237 - acc: 0.9078 - val_loss: 0.2829 - val_acc: 0.8826\n",
            "12500/12500 [==============================] - 23s 2ms/step\n",
            "Simple model + embedded layer on IMDB data set\n",
            "NEW LOSS: 0.28294237694740293 CHANGE: -0.04285480603218084\n",
            "NEW ACCURACY: 0.88264000415802 CHANGE: 0.0062400102615356445\n"
          ],
          "name": "stdout"
        },
        {
          "output_type": "execute_result",
          "data": {
            "text/plain": [
              "3"
            ]
          },
          "metadata": {
            "tags": []
          },
          "execution_count": 7
        }
      ]
    },
    {
      "cell_type": "code",
      "metadata": {
        "id": "LP341Thz4fAP",
        "colab_type": "code",
        "colab": {
          "base_uri": "https://localhost:8080/",
          "height": 289
        },
        "outputId": "b065bffb-d673-4cbd-ec33-5458de330a2a"
      },
      "source": [
        "# Question 3\n",
        "from keras.models import Sequential\n",
        "from keras import layers\n",
        "from keras.preprocessing.text import Tokenizer\n",
        "import pandas as pd\n",
        "from sklearn import preprocessing\n",
        "from sklearn.model_selection import train_test_split\n",
        "import matplotlib.pyplot as plt\n",
        "from sklearn.datasets import fetch_20newsgroups\n",
        "from keras.layers.embeddings import Embedding\n",
        "from keras.layers import Flatten\n",
        "\n",
        "\n",
        "twenty_train = fetch_20newsgroups(subset='train', shuffle=True)\n",
        "y = twenty_train.target\n",
        "sentences = twenty_train.data\n",
        "\n",
        "max_review_len = max([len(s.split()) for s in sentences])\n",
        "\n",
        "\n",
        "tokenizer = Tokenizer(num_words=2000)\n",
        "tokenizer.fit_on_texts(sentences)\n",
        "\n",
        "sentences = tokenizer.texts_to_matrix(sentences)\n",
        "\n",
        "le = preprocessing.LabelEncoder()\n",
        "y = le.fit_transform(y)\n",
        "\n",
        "X_train, X_test, y_train, y_test = train_test_split(sentences, y, test_size=0.25, random_state=1000)\n",
        "\n",
        "input_dim = 2000\n",
        "\n",
        "# Build model\n",
        "model = Sequential()\n",
        "model.add(layers.Dense(300, input_dim=input_dim, activation='relu'))\n",
        "model.add(layers.Dense(20,\n",
        "                       activation='softmax'))\n",
        "model.compile(loss='sparse_categorical_crossentropy', optimizer='adam', metrics=['acc'])\n",
        "history = model.fit(X_train, y_train, epochs=5, verbose=True, validation_data=(X_test, y_test), batch_size=256)\n",
        "\n",
        "# output results\n",
        "case = \"Simple model on news data set\" + \"\\n\"\n",
        "loss, accuracy = model.evaluate(X_test, y_test)\n",
        "results = case + \"LOSS: {}\".format(loss) + \"\\n\" + \"ACCURACY: {}\".format(accuracy)\n",
        "print(results)\n",
        "out.write(results)"
      ],
      "execution_count": 8,
      "outputs": [
        {
          "output_type": "stream",
          "text": [
            "Train on 8485 samples, validate on 2829 samples\n",
            "Epoch 1/5\n",
            "8485/8485 [==============================] - 1s 89us/step - loss: 2.1672 - acc: 0.4872 - val_loss: 1.3264 - val_acc: 0.7183\n",
            "Epoch 2/5\n",
            "8485/8485 [==============================] - 1s 86us/step - loss: 0.8785 - acc: 0.8280 - val_loss: 0.8289 - val_acc: 0.8070\n",
            "Epoch 3/5\n",
            "8485/8485 [==============================] - 1s 80us/step - loss: 0.5177 - acc: 0.8992 - val_loss: 0.6832 - val_acc: 0.8279\n",
            "Epoch 4/5\n",
            "8485/8485 [==============================] - 1s 85us/step - loss: 0.3578 - acc: 0.9348 - val_loss: 0.6120 - val_acc: 0.8378\n",
            "Epoch 5/5\n",
            "8485/8485 [==============================] - 1s 84us/step - loss: 0.2633 - acc: 0.9559 - val_loss: 0.5832 - val_acc: 0.8420\n",
            "2829/2829 [==============================] - 0s 58us/step\n",
            "Simple model on news data set\n",
            "LOSS: 0.5831772812519364\n",
            "ACCURACY: 0.8419936299324036\n"
          ],
          "name": "stdout"
        },
        {
          "output_type": "execute_result",
          "data": {
            "text/plain": [
              "83"
            ]
          },
          "metadata": {
            "tags": []
          },
          "execution_count": 8
        }
      ]
    },
    {
      "cell_type": "code",
      "metadata": {
        "id": "FWMI5B0M5y_1",
        "colab_type": "code",
        "colab": {
          "base_uri": "https://localhost:8080/",
          "height": 1000
        },
        "outputId": "f070daf5-b7fa-4804-94df-717aed8a93f7"
      },
      "source": [
        "# bonus question 1\n",
        "print(\"Rendering Loss/Acc Trends...\")\n",
        "for key in history.history:\n",
        "    plt.plot(history.history[key])\n",
        "    plt.title(\"{} vs Epoch\".format(key))\n",
        "    plt.ylabel(key)\n",
        "    plt.xlabel('Epoch')\n",
        "    plt.show()"
      ],
      "execution_count": 9,
      "outputs": [
        {
          "output_type": "stream",
          "text": [
            "Rendering Loss/Acc Trends...\n"
          ],
          "name": "stdout"
        },
        {
          "output_type": "display_data",
          "data": {
            "image/png": "[encoded data removed]",
            "text/plain": [
              "<Figure size 432x288 with 1 Axes>"
            ]
          },
          "metadata": {
            "tags": [],
            "needs_background": "light"
          }
        },
        {
          "output_type": "display_data",
          "data": {
            "image/png": "[encoded data removed]",
            "text/plain": [
              "<Figure size 432x288 with 1 Axes>"
            ]
          },
          "metadata": {
            "tags": [],
            "needs_background": "light"
          }
        },
        {
          "output_type": "display_data",
          "data": {
            "image/png": "[encoded data removed]",
            "text/plain": [
              "<Figure size 432x288 with 1 Axes>"
            ]
          },
          "metadata": {
            "tags": [],
            "needs_background": "light"
          }
        },
        {
          "output_type": "display_data",
          "data": {
            "image/png": "[encoded data removed]",
            "text/plain": [
              "<Figure size 432x288 with 1 Axes>"
            ]
          },
          "metadata": {
            "tags": [],
            "needs_background": "light"
          }
        }
      ]
    },
    {
      "cell_type": "code",
      "metadata": {
        "id": "7Ze5H4q452JN",
        "colab_type": "code",
        "colab": {}
      },
      "source": [
        "# bonus question 2\n",
        "twenty_test = fetch_20newsgroups(subset='test', shuffle=True)\n",
        "y = twenty_test.target\n",
        "sentences = twenty_test.data\n",
        "labels = list(twenty_test.target_names)\n",
        "\n",
        "single_x = sentences[5]\n",
        "single_y = y[5]\n",
        "\n",
        "tokenizer = Tokenizer(num_words=2000)\n",
        "tokenizer.fit_on_texts(sentences)\n",
        "\n",
        "sentences = tokenizer.texts_to_matrix(sentences)\n",
        "\n",
        "out.write(\"Making prediction on single news file...\")\n",
        "\n",
        "out.write(\"\\n\")\n",
        "out.write(str(single_x[:500]) + \" ...\")\n",
        "out.write(\"\\n\")\n",
        "out.write(\"Expected:\" + str(labels[single_y]))\n",
        "\n",
        "prediction = model.predict_classes(sentences[[5], :])[0]\n",
        "\n",
        "out.write(\"Model prediction: \" + str(labels[prediction]))\n",
        "\n",
        "out.close()\n"
      ],
      "execution_count": 0,
      "outputs": []
    }
  ]
}